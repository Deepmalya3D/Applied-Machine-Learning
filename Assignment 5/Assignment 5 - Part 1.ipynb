{
  "cells": [
    {
      "cell_type": "markdown",
      "metadata": {
        "id": "Xobw3DHvmevM"
      },
      "source": [
        "1. Unzipping the images"
      ]
    },
    {
      "cell_type": "code",
      "execution_count": 53,
      "metadata": {
        "id": "mqu39JndelIp"
      },
      "outputs": [],
      "source": [
        "# !unzip chicken.zip\n",
        "# !unzip duck.zip"
      ]
    },
    {
      "cell_type": "code",
      "execution_count": 54,
      "metadata": {
        "id": "nysm8sE9fPVD"
      },
      "outputs": [],
      "source": [
        "import os\n",
        "import numpy as np\n",
        "import pandas as pd\n",
        "from PIL import Image\n",
        "import imghdr\n",
        "from tensorflow.keras.preprocessing.image import ImageDataGenerator\n",
        "from tensorflow.keras.applications import VGG16\n",
        "from tensorflow.keras.layers import Dense, Flatten\n",
        "from tensorflow.keras.callbacks import EarlyStopping\n",
        "from tensorflow.keras.models import Model\n",
        "from sklearn.model_selection import train_test_split\n",
        "from sklearn.metrics import classification_report"
      ]
    },
    {
      "cell_type": "markdown",
      "metadata": {
        "id": "c5rjIaOEmi3j"
      },
      "source": [
        "2. Creating a dataset with these images and labelling them."
      ]
    },
    {
      "cell_type": "code",
      "execution_count": 55,
      "metadata": {
        "id": "QwjU7XpNeyKH"
      },
      "outputs": [],
      "source": [
        "chicken_dir = os.path.join('./', 'chicken')\n",
        "duck_dir = os.path.join('./', 'duck')\n",
        "\n",
        "images = []\n",
        "labels = []\n",
        "\n",
        "allowed_extensions = ['jpg', 'jpeg', 'png', 'bmp', 'gif']\n",
        "\n",
        "for filename in os.listdir(chicken_dir):\n",
        "    ext = imghdr.what(os.path.join(chicken_dir, filename))\n",
        "    if ext in allowed_extensions:\n",
        "        img_path = os.path.join(chicken_dir, filename)\n",
        "        img = Image.open(img_path)\n",
        "        img_arr = np.array(img)\n",
        "        images.append(img_arr)\n",
        "        labels.append(0)\n",
        "\n",
        "for filename in os.listdir(duck_dir):\n",
        "    ext = imghdr.what(os.path.join(duck_dir, filename))\n",
        "    if ext in allowed_extensions:\n",
        "        img_path = os.path.join(duck_dir, filename)\n",
        "        img = Image.open(img_path)\n",
        "        img_arr = np.array(img)\n",
        "        images.append(img_arr)\n",
        "        labels.append(1)\n",
        "\n",
        "df = pd.DataFrame({'images': images, 'label': labels})"
      ]
    },
    {
      "cell_type": "markdown",
      "metadata": {
        "id": "oqBcSct0mp-G"
      },
      "source": [
        "3. Train-test split and normalizing the dataset."
      ]
    },
    {
      "cell_type": "code",
      "execution_count": 57,
      "metadata": {
        "id": "xPz6mlaPgjoU"
      },
      "outputs": [],
      "source": [
        "X = np.array([np.array(img) for img in df['images']])\n",
        "y = df['label'].values\n",
        "X_train, X_test, y_train, y_test = train_test_split(X, y, test_size=0.2, random_state=42)\n",
        "X_train = X_train / 255.0\n",
        "X_test = X_test / 255.0"
      ]
    },
    {
      "cell_type": "markdown",
      "metadata": {
        "id": "K21IQf8ymvtk"
      },
      "source": [
        "4. Importing a basemodel, imagenet and adding custom layers."
      ]
    },
    {
      "cell_type": "code",
      "execution_count": 67,
      "metadata": {
        "id": "uIa7VFnCgqwH"
      },
      "outputs": [],
      "source": [
        "base_model = VGG16(weights='imagenet', include_top=False, input_shape=(256, 256, 3))\n",
        "\n",
        "for layer in base_model.layers:\n",
        "    layer.trainable = False\n",
        "\n",
        "x = base_model.output\n",
        "x = Flatten()(x)\n",
        "x = Dense(512, activation='relu')(x)\n",
        "x = Dense(128, activation='relu')(x)\n",
        "x = Dense(32, activation='relu')(x)\n",
        "predictions = Dense(1, activation='sigmoid')(x)\n",
        "\n",
        "model = Model(inputs=base_model.input, outputs=predictions)\n",
        "model.compile(optimizer='adam', loss='binary_crossentropy', metrics=['accuracy'])"
      ]
    },
    {
      "cell_type": "code",
      "execution_count": 68,
      "metadata": {
        "colab": {
          "base_uri": "https://localhost:8080/"
        },
        "id": "Gs7LOl1nlhom",
        "outputId": "8203cae5-aef0-4284-c6ba-701289b4d7fd"
      },
      "outputs": [
        {
          "name": "stdout",
          "output_type": "stream",
          "text": [
            "Model: \"model_5\"\n",
            "_________________________________________________________________\n",
            " Layer (type)                Output Shape              Param #   \n",
            "=================================================================\n",
            " input_6 (InputLayer)        [(None, 256, 256, 3)]     0         \n",
            "                                                                 \n",
            " block1_conv1 (Conv2D)       (None, 256, 256, 64)      1792      \n",
            "                                                                 \n",
            " block1_conv2 (Conv2D)       (None, 256, 256, 64)      36928     \n",
            "                                                                 \n",
            " block1_pool (MaxPooling2D)  (None, 128, 128, 64)      0         \n",
            "                                                                 \n",
            " block2_conv1 (Conv2D)       (None, 128, 128, 128)     73856     \n",
            "                                                                 \n",
            " block2_conv2 (Conv2D)       (None, 128, 128, 128)     147584    \n",
            "                                                                 \n",
            " block2_pool (MaxPooling2D)  (None, 64, 64, 128)       0         \n",
            "                                                                 \n",
            " block3_conv1 (Conv2D)       (None, 64, 64, 256)       295168    \n",
            "                                                                 \n",
            " block3_conv2 (Conv2D)       (None, 64, 64, 256)       590080    \n",
            "                                                                 \n",
            " block3_conv3 (Conv2D)       (None, 64, 64, 256)       590080    \n",
            "                                                                 \n",
            " block3_pool (MaxPooling2D)  (None, 32, 32, 256)       0         \n",
            "                                                                 \n",
            " block4_conv1 (Conv2D)       (None, 32, 32, 512)       1180160   \n",
            "                                                                 \n",
            " block4_conv2 (Conv2D)       (None, 32, 32, 512)       2359808   \n",
            "                                                                 \n",
            " block4_conv3 (Conv2D)       (None, 32, 32, 512)       2359808   \n",
            "                                                                 \n",
            " block4_pool (MaxPooling2D)  (None, 16, 16, 512)       0         \n",
            "                                                                 \n",
            " block5_conv1 (Conv2D)       (None, 16, 16, 512)       2359808   \n",
            "                                                                 \n",
            " block5_conv2 (Conv2D)       (None, 16, 16, 512)       2359808   \n",
            "                                                                 \n",
            " block5_conv3 (Conv2D)       (None, 16, 16, 512)       2359808   \n",
            "                                                                 \n",
            " block5_pool (MaxPooling2D)  (None, 8, 8, 512)         0         \n",
            "                                                                 \n",
            " flatten_5 (Flatten)         (None, 32768)             0         \n",
            "                                                                 \n",
            " dense_12 (Dense)            (None, 512)               16777728  \n",
            "                                                                 \n",
            " dense_13 (Dense)            (None, 128)               65664     \n",
            "                                                                 \n",
            " dense_14 (Dense)            (None, 32)                4128      \n",
            "                                                                 \n",
            " dense_15 (Dense)            (None, 1)                 33        \n",
            "                                                                 \n",
            "=================================================================\n",
            "Total params: 31562241 (120.40 MB)\n",
            "Trainable params: 16847553 (64.27 MB)\n",
            "Non-trainable params: 14714688 (56.13 MB)\n",
            "_________________________________________________________________\n"
          ]
        }
      ],
      "source": [
        "model.summary()"
      ]
    },
    {
      "cell_type": "markdown",
      "metadata": {
        "id": "YQWTwrYZm5-a"
      },
      "source": [
        "5. Training the model."
      ]
    },
    {
      "cell_type": "code",
      "execution_count": 69,
      "metadata": {
        "colab": {
          "base_uri": "https://localhost:8080/"
        },
        "id": "u3H0bmTFhApD",
        "outputId": "e6ee9eb9-022e-4777-a9b7-f365332bcfc6"
      },
      "outputs": [
        {
          "name": "stdout",
          "output_type": "stream",
          "text": [
            "Epoch 1/100\n",
            "5/5 [==============================] - 3s 297ms/step - loss: 1.8357 - accuracy: 0.5375 - val_loss: 0.7978 - val_accuracy: 0.5250\n",
            "Epoch 2/100\n",
            "5/5 [==============================] - 1s 243ms/step - loss: 0.6406 - accuracy: 0.6500 - val_loss: 0.4526 - val_accuracy: 0.8000\n",
            "Epoch 3/100\n",
            "5/5 [==============================] - 1s 242ms/step - loss: 0.3484 - accuracy: 0.8500 - val_loss: 0.3078 - val_accuracy: 0.8750\n",
            "Epoch 4/100\n",
            "5/5 [==============================] - 1s 240ms/step - loss: 0.2238 - accuracy: 0.9000 - val_loss: 0.6019 - val_accuracy: 0.6750\n",
            "Epoch 5/100\n",
            "5/5 [==============================] - 1s 225ms/step - loss: 0.1492 - accuracy: 0.9375 - val_loss: 0.2602 - val_accuracy: 0.8500\n",
            "Epoch 6/100\n",
            "5/5 [==============================] - 1s 243ms/step - loss: 0.0650 - accuracy: 0.9812 - val_loss: 0.2262 - val_accuracy: 0.9250\n",
            "Epoch 7/100\n",
            "5/5 [==============================] - 1s 249ms/step - loss: 0.0415 - accuracy: 0.9875 - val_loss: 0.1547 - val_accuracy: 0.9500\n",
            "Epoch 8/100\n",
            "5/5 [==============================] - 1s 235ms/step - loss: 0.0220 - accuracy: 1.0000 - val_loss: 0.1427 - val_accuracy: 0.9500\n",
            "Epoch 9/100\n",
            "5/5 [==============================] - 1s 227ms/step - loss: 0.0131 - accuracy: 1.0000 - val_loss: 0.1580 - val_accuracy: 0.9750\n",
            "Epoch 10/100\n",
            "5/5 [==============================] - 1s 245ms/step - loss: 0.0088 - accuracy: 1.0000 - val_loss: 0.2158 - val_accuracy: 0.8750\n",
            "Epoch 11/100\n",
            "5/5 [==============================] - 1s 230ms/step - loss: 0.0061 - accuracy: 1.0000 - val_loss: 0.1406 - val_accuracy: 0.9750\n",
            "Epoch 12/100\n",
            "5/5 [==============================] - 1s 228ms/step - loss: 0.0037 - accuracy: 1.0000 - val_loss: 0.1257 - val_accuracy: 0.9750\n",
            "Epoch 13/100\n",
            "5/5 [==============================] - 1s 227ms/step - loss: 0.0030 - accuracy: 1.0000 - val_loss: 0.1375 - val_accuracy: 0.9750\n",
            "Epoch 14/100\n",
            "5/5 [==============================] - 1s 247ms/step - loss: 0.0023 - accuracy: 1.0000 - val_loss: 0.1590 - val_accuracy: 0.9750\n",
            "Epoch 15/100\n",
            "5/5 [==============================] - 1s 230ms/step - loss: 0.0021 - accuracy: 1.0000 - val_loss: 0.1689 - val_accuracy: 0.9750\n",
            "Epoch 16/100\n",
            "5/5 [==============================] - 1s 248ms/step - loss: 0.0018 - accuracy: 1.0000 - val_loss: 0.1515 - val_accuracy: 0.9750\n",
            "Epoch 17/100\n",
            "5/5 [==============================] - 1s 257ms/step - loss: 0.0016 - accuracy: 1.0000 - val_loss: 0.1422 - val_accuracy: 0.9750\n",
            "Epoch 18/100\n",
            "5/5 [==============================] - 1s 250ms/step - loss: 0.0014 - accuracy: 1.0000 - val_loss: 0.1389 - val_accuracy: 0.9750\n",
            "Epoch 19/100\n",
            "5/5 [==============================] - 1s 255ms/step - loss: 0.0013 - accuracy: 1.0000 - val_loss: 0.1514 - val_accuracy: 0.9750\n"
          ]
        }
      ],
      "source": [
        "fitted_model = model.fit(X_train, y_train, epochs=100, validation_data=(X_test, y_test), callbacks=[EarlyStopping(monitor='val_accuracy', patience=10)])"
      ]
    },
    {
      "cell_type": "markdown",
      "metadata": {},
      "source": [
        "6. Plotting the loss and accuracy"
      ]
    },
    {
      "cell_type": "code",
      "execution_count": 70,
      "metadata": {
        "colab": {
          "base_uri": "https://localhost:8080/",
          "height": 616
        },
        "id": "tJq8A4HglzCY",
        "outputId": "52ed4389-d88f-414f-c89f-f170704583c5"
      },
      "outputs": [
        {
          "data": {
            "text/plain": [
              "<Axes: >"
            ]
          },
          "execution_count": 70,
          "metadata": {},
          "output_type": "execute_result"
        },
        {
          "data": {
            "image/png": "[encoded data removed]",
            "text/plain": [
              "<Figure size 700x700 with 1 Axes>"
            ]
          },
          "metadata": {},
          "output_type": "display_data"
        }
      ],
      "source": [
        "pd.DataFrame(fitted_model.history).plot(figsize = (7,7))"
      ]
    },
    {
      "cell_type": "markdown",
      "metadata": {},
      "source": [
        "7. Classification Report"
      ]
    },
    {
      "cell_type": "code",
      "execution_count": 71,
      "metadata": {
        "colab": {
          "base_uri": "https://localhost:8080/"
        },
        "id": "5XZ8aNDwgTxf",
        "outputId": "a1d6dd4e-919e-4a5b-92e7-8bcbd784ce88"
      },
      "outputs": [
        {
          "name": "stdout",
          "output_type": "stream",
          "text": [
            "2/2 [==============================] - 0s 173ms/step\n",
            "              precision    recall  f1-score   support\n",
            "\n",
            "           0       1.00      0.95      0.98        21\n",
            "           1       0.95      1.00      0.97        19\n",
            "\n",
            "    accuracy                           0.97        40\n",
            "   macro avg       0.97      0.98      0.97        40\n",
            "weighted avg       0.98      0.97      0.98        40\n",
            "\n"
          ]
        }
      ],
      "source": [
        "y_pred = np.round(model.predict(X_test))\n",
        "print(classification_report(y_test, y_pred))"
      ]
    }
  ],
  "metadata": {
    "accelerator": "GPU",
    "colab": {
      "gpuType": "T4",
      "provenance": []
    },
    "kernelspec": {
      "display_name": "Python 3",
      "name": "python3"
    },
    "language_info": {
      "name": "python"
    }
  },
  "nbformat": 4,
  "nbformat_minor": 0
}
