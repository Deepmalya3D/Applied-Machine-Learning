{
 "cells": [
  {
   "cell_type": "markdown",
   "metadata": {},
   "source": [
    "## Deepmalya Dutta | MDS202218"
   ]
  },
  {
   "cell_type": "markdown",
   "metadata": {},
   "source": [
    "### 1. Importing the libraries"
   ]
  },
  {
   "cell_type": "code",
   "execution_count": 42,
   "metadata": {},
   "outputs": [],
   "source": [
    "import pandas as pd\n",
    "from sklearn.feature_extraction.text import TfidfVectorizer\n",
    "from sklearn.linear_model import LogisticRegression\n",
    "from sklearn.pipeline import Pipeline\n",
    "from sklearn.model_selection import GridSearchCV\n",
    "from sklearn.metrics import classification_report, ConfusionMatrixDisplay\n",
    "import matplotlib.pyplot as plt\n",
    "from sklearn.ensemble import RandomForestClassifier\n",
    "from sklearn.tree import DecisionTreeClassifier"
   ]
  },
  {
   "cell_type": "markdown",
   "metadata": {},
   "source": [
    "### 2. Loading the datasets"
   ]
  },
  {
   "cell_type": "code",
   "execution_count": 10,
   "metadata": {},
   "outputs": [],
   "source": [
    "train = pd.read_csv(\"./Datasets/train.csv\")\n",
    "train_X, train_y = train.text, train.spam\n",
    "\n",
    "test = pd.read_csv(\"./Datasets/test.csv\")\n",
    "test_X, test_y = test.text, test.spam\n",
    "\n",
    "val = pd.read_csv(\"./Datasets/validation.csv\")\n",
    "val_X, val_y = val.text, val.spam"
   ]
  },
  {
   "cell_type": "markdown",
   "metadata": {},
   "source": [
    "### 3. Fitting a model"
   ]
  },
  {
   "cell_type": "code",
   "execution_count": 11,
   "metadata": {},
   "outputs": [
    {
     "name": "stdout",
     "output_type": "stream",
     "text": [
      "Training Accuracy: 0.9918144611186903\n",
      "Validation Accuracy: 0.9803707742639041\n"
     ]
    }
   ],
   "source": [
    "pipeline = Pipeline([\n",
    "    ('tfidf', TfidfVectorizer(max_features=2000)),\n",
    "    ('clf', LogisticRegression(random_state=1, max_iter=2000)),\n",
    "])\n",
    "\n",
    "pipeline.fit(train_X, train_y)\n",
    "\n",
    "train_score = pipeline.score(train_X, train_y)\n",
    "validation_score = pipeline.score(val_X, val_y)\n",
    "\n",
    "print(f'Training Accuracy: {train_score}')\n",
    "print(f'Validation Accuracy: {validation_score}')"
   ]
  },
  {
   "cell_type": "markdown",
   "metadata": {},
   "source": [
    "#### Model Predictions"
   ]
  },
  {
   "cell_type": "code",
   "execution_count": 31,
   "metadata": {},
   "outputs": [
    {
     "data": {
      "text/html": [
       "<div>\n",
       "<style scoped>\n",
       "    .dataframe tbody tr th:only-of-type {\n",
       "        vertical-align: middle;\n",
       "    }\n",
       "\n",
       "    .dataframe tbody tr th {\n",
       "        vertical-align: top;\n",
       "    }\n",
       "\n",
       "    .dataframe thead th {\n",
       "        text-align: right;\n",
       "    }\n",
       "</style>\n",
       "<table border=\"1\" class=\"dataframe\">\n",
       "  <thead>\n",
       "    <tr style=\"text-align: right;\">\n",
       "      <th></th>\n",
       "      <th>Predicted values</th>\n",
       "      <th>Actual values</th>\n",
       "    </tr>\n",
       "  </thead>\n",
       "  <tbody>\n",
       "    <tr>\n",
       "      <th>0</th>\n",
       "      <td>0</td>\n",
       "      <td>0</td>\n",
       "    </tr>\n",
       "    <tr>\n",
       "      <th>1</th>\n",
       "      <td>0</td>\n",
       "      <td>0</td>\n",
       "    </tr>\n",
       "    <tr>\n",
       "      <th>2</th>\n",
       "      <td>1</td>\n",
       "      <td>1</td>\n",
       "    </tr>\n",
       "    <tr>\n",
       "      <th>3</th>\n",
       "      <td>1</td>\n",
       "      <td>1</td>\n",
       "    </tr>\n",
       "    <tr>\n",
       "      <th>4</th>\n",
       "      <td>0</td>\n",
       "      <td>0</td>\n",
       "    </tr>\n",
       "    <tr>\n",
       "      <th>5</th>\n",
       "      <td>0</td>\n",
       "      <td>0</td>\n",
       "    </tr>\n",
       "    <tr>\n",
       "      <th>6</th>\n",
       "      <td>0</td>\n",
       "      <td>0</td>\n",
       "    </tr>\n",
       "    <tr>\n",
       "      <th>7</th>\n",
       "      <td>1</td>\n",
       "      <td>1</td>\n",
       "    </tr>\n",
       "    <tr>\n",
       "      <th>8</th>\n",
       "      <td>0</td>\n",
       "      <td>0</td>\n",
       "    </tr>\n",
       "    <tr>\n",
       "      <th>9</th>\n",
       "      <td>0</td>\n",
       "      <td>0</td>\n",
       "    </tr>\n",
       "  </tbody>\n",
       "</table>\n",
       "</div>"
      ],
      "text/plain": [
       "   Predicted values  Actual values\n",
       "0                 0              0\n",
       "1                 0              0\n",
       "2                 1              1\n",
       "3                 1              1\n",
       "4                 0              0\n",
       "5                 0              0\n",
       "6                 0              0\n",
       "7                 1              1\n",
       "8                 0              0\n",
       "9                 0              0"
      ]
     },
     "execution_count": 31,
     "metadata": {},
     "output_type": "execute_result"
    }
   ],
   "source": [
    "predict = pd.concat([pd.DataFrame(pipeline.predict(test_X)), pd.DataFrame(test_y.values)], axis=1)\n",
    "predict.columns = [\"Predicted values\", \"Actual values\"]\n",
    "predict.head(10)"
   ]
  },
  {
   "cell_type": "markdown",
   "metadata": {},
   "source": [
    "### 4. Improving the model"
   ]
  },
  {
   "cell_type": "markdown",
   "metadata": {},
   "source": [
    "- Model 1 - Logistic Regression"
   ]
  },
  {
   "cell_type": "code",
   "execution_count": 38,
   "metadata": {},
   "outputs": [
    {
     "name": "stdout",
     "output_type": "stream",
     "text": [
      "Fitting 3 folds for each of 9 candidates, totalling 27 fits\n",
      "Best Score: 0.9773033906266608\n",
      "Best Hyperparameters: {'clf__C': 1.0, 'tfidf__max_features': 2000}\n"
     ]
    }
   ],
   "source": [
    "pipeline = Pipeline([\n",
    "    ('tfidf', TfidfVectorizer()),\n",
    "    ('clf', LogisticRegression(random_state=1, max_iter=2000)),\n",
    "])\n",
    "\n",
    "space = dict()\n",
    "space['tfidf__max_features'] = [1000, 2000, 5000]\n",
    "space['clf__C'] = [0.01, 0.1, 1.0]\n",
    "\n",
    "search = GridSearchCV(pipeline, space, cv=3, verbose=1, n_jobs=-1, scoring='accuracy')\n",
    "result = search.fit(pd.concat([train_X, val_X], axis=0), pd.concat([train_y, val_y], axis=0))\n",
    "\n",
    "print('Best Score: %s' % result.best_score_)\n",
    "print('Best Hyperparameters: %s' % result.best_params_)"
   ]
  },
  {
   "cell_type": "code",
   "execution_count": 39,
   "metadata": {},
   "outputs": [
    {
     "name": "stdout",
     "output_type": "stream",
     "text": [
      "Test Accuracy with Best Model:  0.9755671902268761\n"
     ]
    }
   ],
   "source": [
    "clf = search.best_estimator_\n",
    "test_accuracy = clf.score(test_X, test_y)\n",
    "print(\"Test Accuracy with Best Model: \", test_accuracy)"
   ]
  },
  {
   "cell_type": "markdown",
   "metadata": {},
   "source": [
    "- Model 2 - Random Forest"
   ]
  },
  {
   "cell_type": "code",
   "execution_count": 45,
   "metadata": {},
   "outputs": [
    {
     "name": "stdout",
     "output_type": "stream",
     "text": [
      "Fitting 3 folds for each of 9 candidates, totalling 27 fits\n",
      "Best Score: 0.9855952368707076\n",
      "Best Hyperparameters: {'rf__n_estimators': 100, 'tfidf__max_features': 5000}\n"
     ]
    }
   ],
   "source": [
    "pipeline = Pipeline([\n",
    "    ('tfidf', TfidfVectorizer()),\n",
    "    ('rf', RandomForestClassifier(random_state=1, n_estimators=100)),\n",
    "])\n",
    "\n",
    "space = dict()\n",
    "space['tfidf__max_features'] = [1000, 2000, 5000]\n",
    "space['rf__n_estimators'] = [50, 100, 200]\n",
    "\n",
    "search = GridSearchCV(pipeline, space, cv=3, verbose=1, n_jobs=-1, scoring='accuracy')\n",
    "result = search.fit(pd.concat([train_X, val_X], axis=0), pd.concat([train_y, val_y], axis=0))\n",
    "\n",
    "print('Best Score: %s' % result.best_score_)\n",
    "print('Best Hyperparameters: %s' % result.best_params_)"
   ]
  },
  {
   "cell_type": "code",
   "execution_count": 46,
   "metadata": {},
   "outputs": [
    {
     "name": "stdout",
     "output_type": "stream",
     "text": [
      "Test Accuracy with Best Model:  0.987783595113438\n"
     ]
    }
   ],
   "source": [
    "rf = search.best_estimator_\n",
    "test_accuracy = rf.score(test_X, test_y)\n",
    "print(\"Test Accuracy with Best Model: \", test_accuracy)"
   ]
  },
  {
   "cell_type": "markdown",
   "metadata": {},
   "source": [
    "- Model 3 - Decision Tree"
   ]
  },
  {
   "cell_type": "code",
   "execution_count": 48,
   "metadata": {},
   "outputs": [
    {
     "name": "stdout",
     "output_type": "stream",
     "text": [
      "Fitting 3 folds for each of 12 candidates, totalling 36 fits\n",
      "Best Score: 0.9580960397544604\n",
      "Best Hyperparameters: {'dt__max_depth': None, 'tfidf__max_features': 1000}\n"
     ]
    }
   ],
   "source": [
    "pipeline = Pipeline([\n",
    "    ('tfidf', TfidfVectorizer()),\n",
    "    ('dt', DecisionTreeClassifier(random_state=1)),\n",
    "])\n",
    "\n",
    "space = dict()\n",
    "space['tfidf__max_features'] = [1000, 2000, 5000]\n",
    "space['dt__max_depth'] = [None, 10, 20, 30]\n",
    "\n",
    "search = GridSearchCV(pipeline, space, cv=3, verbose=1, n_jobs=-1, scoring='accuracy')\n",
    "result = search.fit(pd.concat([train_X, val_X], axis=0), pd.concat([train_y, val_y], axis=0))\n",
    "\n",
    "print('Best Score: %s' % result.best_score_)\n",
    "print('Best Hyperparameters: %s' % result.best_params_)"
   ]
  },
  {
   "cell_type": "code",
   "execution_count": 49,
   "metadata": {},
   "outputs": [
    {
     "name": "stdout",
     "output_type": "stream",
     "text": [
      "Test Accuracy with Best Model:  0.9589877835951134\n"
     ]
    }
   ],
   "source": [
    "dt = search.best_estimator_\n",
    "test_accuracy = dt.score(test_X, test_y)\n",
    "print(\"Test Accuracy with Best Model: \", test_accuracy)"
   ]
  },
  {
   "cell_type": "markdown",
   "metadata": {},
   "source": [
    "### We see random forest model scores highest on our testing data"
   ]
  },
  {
   "cell_type": "code",
   "execution_count": 50,
   "metadata": {},
   "outputs": [
    {
     "name": "stdout",
     "output_type": "stream",
     "text": [
      "              precision    recall  f1-score   support\n",
      "\n",
      "           0       0.99      0.99      0.99       841\n",
      "           1       0.98      0.98      0.98       305\n",
      "\n",
      "    accuracy                           0.99      1146\n",
      "   macro avg       0.98      0.98      0.98      1146\n",
      "weighted avg       0.99      0.99      0.99      1146\n",
      "\n"
     ]
    }
   ],
   "source": [
    "pred_y = rf.predict(test_X)\n",
    "print(classification_report(pred_y, test_y))"
   ]
  },
  {
   "cell_type": "code",
   "execution_count": 51,
   "metadata": {},
   "outputs": [
    {
     "data": {
      "image/png": "[encoded data removed]",
      "text/plain": [
       "<Figure size 640x480 with 2 Axes>"
      ]
     },
     "metadata": {},
     "output_type": "display_data"
    }
   ],
   "source": [
    "ConfusionMatrixDisplay.from_estimator(rf, test_X, test_y)\n",
    "plt.show()"
   ]
  },
  {
   "cell_type": "code",
   "execution_count": null,
   "metadata": {},
   "outputs": [],
   "source": []
  }
 ],
 "metadata": {
  "kernelspec": {
   "display_name": "Python 3",
   "language": "python",
   "name": "python3"
  },
  "language_info": {
   "codemirror_mode": {
    "name": "ipython",
    "version": 3
   },
   "file_extension": ".py",
   "mimetype": "text/x-python",
   "name": "python",
   "nbconvert_exporter": "python",
   "pygments_lexer": "ipython3",
   "version": "3.9.6"
  }
 },
 "nbformat": 4,
 "nbformat_minor": 2
}
