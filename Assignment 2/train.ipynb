{
 "cells": [
  {
   "cell_type": "markdown",
   "metadata": {},
   "source": [
    "## Deepmalya Dutta | MDS202218"
   ]
  },
  {
   "cell_type": "code",
   "execution_count": 1,
   "metadata": {},
   "outputs": [],
   "source": [
    "# ! pip install mlflow"
   ]
  },
  {
   "cell_type": "markdown",
   "metadata": {},
   "source": [
    "### 1. Importing the libraries"
   ]
  },
  {
   "cell_type": "code",
   "execution_count": 2,
   "metadata": {},
   "outputs": [],
   "source": [
    "import pandas as pd\n",
    "from sklearn.feature_extraction.text import TfidfVectorizer\n",
    "from sklearn.linear_model import LogisticRegression\n",
    "from sklearn.pipeline import Pipeline\n",
    "from sklearn.model_selection import GridSearchCV\n",
    "from sklearn.metrics import classification_report, ConfusionMatrixDisplay, confusion_matrix, accuracy_score, precision_recall_curve, auc\n",
    "import matplotlib.pyplot as plt\n",
    "from sklearn.ensemble import RandomForestClassifier\n",
    "from sklearn.tree import DecisionTreeClassifier\n",
    "import mlflow\n",
    "from urllib.parse import urlparse\n",
    "import numpy as np"
   ]
  },
  {
   "cell_type": "markdown",
   "metadata": {},
   "source": [
    "### 2. Loading the datasets"
   ]
  },
  {
   "cell_type": "code",
   "execution_count": 3,
   "metadata": {},
   "outputs": [],
   "source": [
    "train = pd.read_csv(\"./Datasets/train.csv\")\n",
    "train_X, train_y = train.text, train.spam\n",
    "\n",
    "test = pd.read_csv(\"./Datasets/test.csv\")\n",
    "test_X, test_y = test.text, test.spam\n",
    "\n",
    "val = pd.read_csv(\"./Datasets/validation.csv\")\n",
    "val_X, val_y = val.text, val.spam"
   ]
  },
  {
   "cell_type": "markdown",
   "metadata": {},
   "source": [
    "### 3. Fitting a model"
   ]
  },
  {
   "cell_type": "code",
   "execution_count": 4,
   "metadata": {},
   "outputs": [
    {
     "name": "stdout",
     "output_type": "stream",
     "text": [
      "Training Accuracy: 0.9901773533424284\n",
      "Validation Accuracy: 0.9781897491821155\n"
     ]
    }
   ],
   "source": [
    "pipeline = Pipeline([\n",
    "    ('tfidf', TfidfVectorizer(max_features=2000)),\n",
    "    ('clf', LogisticRegression(random_state=1, max_iter=2000)),\n",
    "])\n",
    "\n",
    "pipeline.fit(train_X, train_y)\n",
    "\n",
    "train_score = pipeline.score(train_X, train_y)\n",
    "validation_score = pipeline.score(val_X, val_y)\n",
    "\n",
    "print(f'Training Accuracy: {train_score}')\n",
    "print(f'Validation Accuracy: {validation_score}')"
   ]
  },
  {
   "cell_type": "markdown",
   "metadata": {},
   "source": [
    "#### Model Predictions"
   ]
  },
  {
   "cell_type": "code",
   "execution_count": 5,
   "metadata": {},
   "outputs": [
    {
     "data": {
      "text/html": [
       "<div>\n",
       "<style scoped>\n",
       "    .dataframe tbody tr th:only-of-type {\n",
       "        vertical-align: middle;\n",
       "    }\n",
       "\n",
       "    .dataframe tbody tr th {\n",
       "        vertical-align: top;\n",
       "    }\n",
       "\n",
       "    .dataframe thead th {\n",
       "        text-align: right;\n",
       "    }\n",
       "</style>\n",
       "<table border=\"1\" class=\"dataframe\">\n",
       "  <thead>\n",
       "    <tr style=\"text-align: right;\">\n",
       "      <th></th>\n",
       "      <th>Predicted values</th>\n",
       "      <th>Actual values</th>\n",
       "    </tr>\n",
       "  </thead>\n",
       "  <tbody>\n",
       "    <tr>\n",
       "      <th>0</th>\n",
       "      <td>0</td>\n",
       "      <td>0</td>\n",
       "    </tr>\n",
       "    <tr>\n",
       "      <th>1</th>\n",
       "      <td>0</td>\n",
       "      <td>0</td>\n",
       "    </tr>\n",
       "    <tr>\n",
       "      <th>2</th>\n",
       "      <td>0</td>\n",
       "      <td>0</td>\n",
       "    </tr>\n",
       "    <tr>\n",
       "      <th>3</th>\n",
       "      <td>0</td>\n",
       "      <td>0</td>\n",
       "    </tr>\n",
       "    <tr>\n",
       "      <th>4</th>\n",
       "      <td>0</td>\n",
       "      <td>0</td>\n",
       "    </tr>\n",
       "    <tr>\n",
       "      <th>5</th>\n",
       "      <td>1</td>\n",
       "      <td>1</td>\n",
       "    </tr>\n",
       "    <tr>\n",
       "      <th>6</th>\n",
       "      <td>0</td>\n",
       "      <td>1</td>\n",
       "    </tr>\n",
       "    <tr>\n",
       "      <th>7</th>\n",
       "      <td>0</td>\n",
       "      <td>0</td>\n",
       "    </tr>\n",
       "    <tr>\n",
       "      <th>8</th>\n",
       "      <td>0</td>\n",
       "      <td>0</td>\n",
       "    </tr>\n",
       "    <tr>\n",
       "      <th>9</th>\n",
       "      <td>0</td>\n",
       "      <td>0</td>\n",
       "    </tr>\n",
       "  </tbody>\n",
       "</table>\n",
       "</div>"
      ],
      "text/plain": [
       "   Predicted values  Actual values\n",
       "0                 0              0\n",
       "1                 0              0\n",
       "2                 0              0\n",
       "3                 0              0\n",
       "4                 0              0\n",
       "5                 1              1\n",
       "6                 0              1\n",
       "7                 0              0\n",
       "8                 0              0\n",
       "9                 0              0"
      ]
     },
     "execution_count": 5,
     "metadata": {},
     "output_type": "execute_result"
    }
   ],
   "source": [
    "predict = pd.concat([pd.DataFrame(pipeline.predict(test_X)), pd.DataFrame(test_y.values)], axis=1)\n",
    "predict.columns = [\"Predicted values\", \"Actual values\"]\n",
    "predict.head(10)"
   ]
  },
  {
   "cell_type": "markdown",
   "metadata": {},
   "source": [
    "### 4. Improving the model"
   ]
  },
  {
   "cell_type": "code",
   "execution_count": 6,
   "metadata": {},
   "outputs": [],
   "source": [
    "def eval_metrics(actual_y, pred_y):\n",
    "    precision, recall, _ = precision_recall_curve(actual_y, pred_y)\n",
    "    return auc(recall, precision)"
   ]
  },
  {
   "cell_type": "markdown",
   "metadata": {},
   "source": [
    "- Model 1 - Logistic Regression"
   ]
  },
  {
   "cell_type": "code",
   "execution_count": 7,
   "metadata": {},
   "outputs": [
    {
     "name": "stdout",
     "output_type": "stream",
     "text": [
      "Fitting 3 folds for each of 9 candidates, totalling 27 fits\n"
     ]
    },
    {
     "name": "stdout",
     "output_type": "stream",
     "text": [
      "Best Score: 0.9777405479724471\n",
      "Best Hyperparameters: {'clf__C': 1.0, 'tfidf__max_features': 2000}\n"
     ]
    }
   ],
   "source": [
    "pipeline = Pipeline([\n",
    "    ('tfidf', TfidfVectorizer()),\n",
    "    ('clf', LogisticRegression(random_state=1, max_iter=2000)),\n",
    "])\n",
    "\n",
    "space = dict()\n",
    "space['tfidf__max_features'] = [1000, 2000, 5000]\n",
    "space['clf__C'] = [0.01, 0.1, 1.0]\n",
    "\n",
    "search = GridSearchCV(pipeline, space, cv=3, verbose=1, n_jobs=-1, scoring='accuracy')\n",
    "result = search.fit(pd.concat([train_X, val_X], axis=0), pd.concat([train_y, val_y], axis=0))\n",
    "\n",
    "print('Best Score: %s' % result.best_score_)\n",
    "print('Best Hyperparameters: %s' % result.best_params_)"
   ]
  },
  {
   "cell_type": "code",
   "execution_count": 8,
   "metadata": {},
   "outputs": [
    {
     "name": "stdout",
     "output_type": "stream",
     "text": [
      "\n",
      "Random Classifier Model (tfidf__max_features=2000.000000, clf__C=1.000000):\n",
      "Accuracy: 0.9842931937172775\n",
      "AUCPR: 0.9734449231626915 \n",
      "Confusion Matrix:\n",
      " [[874   2]\n",
      " [ 16 254]] \n",
      " \n",
      "\n"
     ]
    },
    {
     "name": "stderr",
     "output_type": "stream",
     "text": [
      "Registered model 'logistic-regression-classification-model' already exists. Creating a new version of this model...\n",
      "Created version '2' of model 'logistic-regression-classification-model'.\n"
     ]
    }
   ],
   "source": [
    "mlflow.sklearn.autolog()\n",
    "\n",
    "clf = search.best_estimator_\n",
    "y_pred = clf.predict(test_X)\n",
    "aucpr = eval_metrics(test_y, y_pred)\n",
    "acc = accuracy_score(test_y, y_pred)\n",
    "conf = confusion_matrix(test_y, y_pred)\n",
    "\n",
    "with mlflow.start_run(run_name=f\"tfidf__max_features : {2000}, clf__C : {1.0}\"):\n",
    "  \n",
    "    mlflow.log_param(\"tfidf__max_features\", 2000)\n",
    "    mlflow.log_param(\"clf__C\", 1.0)\n",
    "    mlflow.log_metric(\"accuracy\", acc)\n",
    "    mlflow.log_metric(\"AUCPR\",aucpr)\n",
    "    mlflow.log_dict(np.array(conf).tolist(), \"confusion_matrix.json\")\n",
    "    mlflow.sklearn.log_model(clf, \"model\")\n",
    "\n",
    "    print(\"\\nRandom Classifier Model (tfidf__max_features={:f}, clf__C={:f}):\".format(2000, 1.0))\n",
    "    print(f\"Accuracy: {acc}\")\n",
    "    print(f\"AUCPR: {aucpr} \")\n",
    "    print(f\"Confusion Matrix:\\n {conf} \\n \\n\")\n",
    "\n",
    "    tracking_url_type_store = urlparse(mlflow.get_tracking_uri()).scheme\n",
    "    mlflow.sklearn.log_model(\n",
    "        sk_model=clf,\n",
    "        artifact_path=\"sklearn-model\",\n",
    "        registered_model_name=\"logistic-regression-classification-model\"\n",
    "    )\n",
    "    if tracking_url_type_store != \"file\":\n",
    "      mlflow.sklearn.log_model(clf, \"model\", registered_model_name=\"LogisticRegression\")\n",
    "    else:\n",
    "      mlflow.sklearn.log_model(clf, \"model\")\n"
   ]
  },
  {
   "cell_type": "code",
   "execution_count": 9,
   "metadata": {},
   "outputs": [
    {
     "data": {
      "text/plain": [
       "<ModelVersion: aliases=[], creation_timestamp=1708239830405, current_stage='None', description=None, last_updated_timestamp=1708239830405, name='logistic-regression-classification-model', run_id='4d6841577994458fbebca4ce23705299', run_link=None, source='file:///Users/deepmalya/Library/Mobile%20Documents/com~apple~CloudDocs/CMI/Assignments/Sem%204/AML/Assignment%202/mlruns/0/4d6841577994458fbebca4ce23705299/artifacts/sklearn-model', status='READY', status_message=None, tags={}, user_id=None, version=2>"
      ]
     },
     "execution_count": 9,
     "metadata": {},
     "output_type": "execute_result"
    }
   ],
   "source": [
    "mlflow.tracking.MlflowClient().get_model_version(\"logistic-regression-classification-model\", \"2\")"
   ]
  },
  {
   "cell_type": "code",
   "execution_count": 10,
   "metadata": {},
   "outputs": [],
   "source": [
    "# ! mlflow ui"
   ]
  },
  {
   "cell_type": "markdown",
   "metadata": {},
   "source": [
    "- Model 2 - Random Forest"
   ]
  },
  {
   "cell_type": "code",
   "execution_count": 11,
   "metadata": {},
   "outputs": [
    {
     "name": "stderr",
     "output_type": "stream",
     "text": [
      "2024/02/18 12:34:08 INFO mlflow.utils.autologging_utils: Created MLflow autologging run with ID '1fd8aa2143de48449f3056d75b0285e0', which will track hyperparameters, performance metrics, model artifacts, and lineage information for the current sklearn workflow\n"
     ]
    },
    {
     "name": "stderr",
     "output_type": "stream",
     "text": [
      "2024/02/18 12:34:08 WARNING mlflow.sklearn: Unrecognized dataset type <class 'pandas.core.series.Series'>. Dataset logging skipped.\n"
     ]
    },
    {
     "name": "stdout",
     "output_type": "stream",
     "text": [
      "Fitting 3 folds for each of 9 candidates, totalling 27 fits\n"
     ]
    },
    {
     "name": "stderr",
     "output_type": "stream",
     "text": [
      "2024/02/18 12:34:31 INFO mlflow.sklearn.utils: Logging the 5 best runs, 4 runs will be omitted.\n"
     ]
    },
    {
     "name": "stdout",
     "output_type": "stream",
     "text": [
      "Best Score: 0.9851589366961878\n",
      "Best Hyperparameters: {'rf__n_estimators': 200, 'tfidf__max_features': 5000}\n"
     ]
    }
   ],
   "source": [
    "pipeline = Pipeline([\n",
    "    ('tfidf', TfidfVectorizer()),\n",
    "    ('rf', RandomForestClassifier(random_state=1, n_estimators=100)),\n",
    "])\n",
    "\n",
    "space = dict()\n",
    "space['tfidf__max_features'] = [1000, 2000, 5000]\n",
    "space['rf__n_estimators'] = [50, 100, 200]\n",
    "\n",
    "search = GridSearchCV(pipeline, space, cv=3, verbose=1, n_jobs=-1, scoring='accuracy')\n",
    "result = search.fit(pd.concat([train_X, val_X], axis=0), pd.concat([train_y, val_y], axis=0))\n",
    "\n",
    "print('Best Score: %s' % result.best_score_)\n",
    "print('Best Hyperparameters: %s' % result.best_params_)"
   ]
  },
  {
   "cell_type": "code",
   "execution_count": 12,
   "metadata": {},
   "outputs": [
    {
     "name": "stdout",
     "output_type": "stream",
     "text": [
      "\n",
      "Random Classifier Model (tfidf__max_features=5000.000000, rf__n_estimators=200.000000):\n",
      "Accuracy: 0.9869109947643979\n",
      "AUCPR: 0.9747404234315229 \n",
      "Confusion Matrix:\n",
      " [[866  10]\n",
      " [  5 265]] \n",
      " \n",
      "\n"
     ]
    },
    {
     "name": "stderr",
     "output_type": "stream",
     "text": [
      "Registered model 'random-forest-classification-model' already exists. Creating a new version of this model...\n",
      "Created version '3' of model 'random-forest-classification-model'.\n"
     ]
    }
   ],
   "source": [
    "mlflow.sklearn.autolog()\n",
    "\n",
    "rf = search.best_estimator_\n",
    "y_pred = rf.predict(test_X)\n",
    "aucpr = eval_metrics(test_y, y_pred)\n",
    "acc = accuracy_score(test_y, y_pred)\n",
    "conf = confusion_matrix(test_y, y_pred)\n",
    "\n",
    "with mlflow.start_run(run_name=f\"tfidf__max_features : {5000}, rf__n_estimators : {200}\"):\n",
    "  \n",
    "    mlflow.log_param(\"tfidf__max_features\", 5000)\n",
    "    mlflow.log_param(\"rf__n_estimators\", 200)\n",
    "    mlflow.log_metric(\"accuracy\", acc)\n",
    "    mlflow.log_metric(\"AUCPR\",aucpr)\n",
    "    mlflow.log_dict(np.array(conf).tolist(), \"confusion_matrix.json\")\n",
    "    mlflow.sklearn.log_model(rf, \"model\")\n",
    "\n",
    "    print(\"\\nRandom Classifier Model (tfidf__max_features={:f}, rf__n_estimators={:f}):\".format(5000, 200))\n",
    "    print(f\"Accuracy: {acc}\")\n",
    "    print(f\"AUCPR: {aucpr} \")\n",
    "    print(f\"Confusion Matrix:\\n {conf} \\n \\n\")\n",
    "\n",
    "    tracking_url_type_store = urlparse(mlflow.get_tracking_uri()).scheme\n",
    "    mlflow.sklearn.log_model(\n",
    "        sk_model=rf,\n",
    "        artifact_path=\"sklearn-model\",\n",
    "        registered_model_name=\"random-forest-classification-model\"\n",
    "    )\n",
    "    if tracking_url_type_store != \"file\":\n",
    "      mlflow.sklearn.log_model(rf, \"model\", registered_model_name=\"RandomForestClassifier\")\n",
    "    else:\n",
    "      mlflow.sklearn.log_model(rf, \"model\")\n"
   ]
  },
  {
   "cell_type": "code",
   "execution_count": 13,
   "metadata": {},
   "outputs": [
    {
     "data": {
      "text/plain": [
       "<ModelVersion: aliases=[], creation_timestamp=1708239896163, current_stage='None', description=None, last_updated_timestamp=1708239896163, name='random-forest-classification-model', run_id='93d9120547854466ab05c7a5fbbdc4d1', run_link=None, source='file:///Users/deepmalya/Library/Mobile%20Documents/com~apple~CloudDocs/CMI/Assignments/Sem%204/AML/Assignment%202/mlruns/0/93d9120547854466ab05c7a5fbbdc4d1/artifacts/sklearn-model', status='READY', status_message=None, tags={}, user_id=None, version=3>"
      ]
     },
     "execution_count": 13,
     "metadata": {},
     "output_type": "execute_result"
    }
   ],
   "source": [
    "mlflow.tracking.MlflowClient().get_model_version(\"random-forest-classification-model\", \"3\")"
   ]
  },
  {
   "cell_type": "markdown",
   "metadata": {},
   "source": [
    "- Model 3 - Decision Tree"
   ]
  },
  {
   "cell_type": "code",
   "execution_count": 14,
   "metadata": {},
   "outputs": [
    {
     "name": "stderr",
     "output_type": "stream",
     "text": [
      "2024/02/18 12:35:02 INFO mlflow.utils.autologging_utils: Created MLflow autologging run with ID '949ec399c5774ed398cedc6d41deb1eb', which will track hyperparameters, performance metrics, model artifacts, and lineage information for the current sklearn workflow\n",
      "2024/02/18 12:35:02 WARNING mlflow.sklearn: Unrecognized dataset type <class 'pandas.core.series.Series'>. Dataset logging skipped.\n"
     ]
    },
    {
     "name": "stdout",
     "output_type": "stream",
     "text": [
      "Fitting 3 folds for each of 12 candidates, totalling 36 fits\n"
     ]
    },
    {
     "name": "stderr",
     "output_type": "stream",
     "text": [
      "2024/02/18 12:35:15 INFO mlflow.sklearn.utils: Logging the 5 best runs, 7 runs will be omitted.\n"
     ]
    },
    {
     "name": "stdout",
     "output_type": "stream",
     "text": [
      "Best Score: 0.9591875045001491\n",
      "Best Hyperparameters: {'dt__max_depth': 30, 'tfidf__max_features': 1000}\n"
     ]
    }
   ],
   "source": [
    "pipeline = Pipeline([\n",
    "    ('tfidf', TfidfVectorizer()),\n",
    "    ('dt', DecisionTreeClassifier(random_state=1)),\n",
    "])\n",
    "\n",
    "space = dict()\n",
    "space['tfidf__max_features'] = [1000, 2000, 5000]\n",
    "space['dt__max_depth'] = [None, 10, 20, 30]\n",
    "\n",
    "search = GridSearchCV(pipeline, space, cv=3, verbose=1, n_jobs=-1, scoring='accuracy')\n",
    "result = search.fit(pd.concat([train_X, val_X], axis=0), pd.concat([train_y, val_y], axis=0))\n",
    "\n",
    "print('Best Score: %s' % result.best_score_)\n",
    "print('Best Hyperparameters: %s' % result.best_params_)"
   ]
  },
  {
   "cell_type": "code",
   "execution_count": 15,
   "metadata": {},
   "outputs": [
    {
     "name": "stdout",
     "output_type": "stream",
     "text": [
      "\n",
      "Random Classifier Model (tfidf__max_features=1000.000000, dt__max_depth=30.000000):\n",
      "Accuracy: 0.9589877835951134\n",
      "AUCPR: 0.9232864174146808 \n",
      "Confusion Matrix:\n",
      " [[841  35]\n",
      " [ 12 258]] \n",
      " \n",
      "\n"
     ]
    },
    {
     "name": "stderr",
     "output_type": "stream",
     "text": [
      "Registered model 'decision-tree-classification-model' already exists. Creating a new version of this model...\n",
      "Created version '3' of model 'decision-tree-classification-model'.\n"
     ]
    }
   ],
   "source": [
    "mlflow.sklearn.autolog()\n",
    "\n",
    "dt = search.best_estimator_\n",
    "y_pred = dt.predict(test_X)\n",
    "aucpr = eval_metrics(test_y, y_pred)\n",
    "acc = accuracy_score(test_y, y_pred)\n",
    "conf = confusion_matrix(test_y, y_pred)\n",
    "\n",
    "with mlflow.start_run(run_name=f\"tfidf__max_features : {1000}, dt__max_depth : {30}\"):\n",
    "  \n",
    "    mlflow.log_param(\"tfidf__max_features\", 1000)\n",
    "    mlflow.log_param(\"dt__max_depth\", 30)\n",
    "    mlflow.log_metric(\"accuracy\", acc)\n",
    "    mlflow.log_metric(\"AUCPR\",aucpr)\n",
    "    mlflow.log_dict(np.array(conf).tolist(), \"confusion_matrix.json\")\n",
    "    mlflow.sklearn.log_model(dt, \"model\")\n",
    "\n",
    "    print(\"\\nRandom Classifier Model (tfidf__max_features={:f}, dt__max_depth={:f}):\".format(1000, 30))\n",
    "    print(f\"Accuracy: {acc}\")\n",
    "    print(f\"AUCPR: {aucpr} \")\n",
    "    print(f\"Confusion Matrix:\\n {conf} \\n \\n\")\n",
    "\n",
    "    tracking_url_type_store = urlparse(mlflow.get_tracking_uri()).scheme\n",
    "    mlflow.sklearn.log_model(\n",
    "        sk_model=dt,\n",
    "        artifact_path=\"sklearn-model\",\n",
    "        registered_model_name=\"decision-tree-classification-model\"\n",
    "    )\n",
    "    if tracking_url_type_store != \"file\":\n",
    "      mlflow.sklearn.log_model(dt, \"model\", registered_model_name=\"DecisionTreeClassifier\")\n",
    "    else:\n",
    "      mlflow.sklearn.log_model(dt, \"model\")\n"
   ]
  },
  {
   "cell_type": "code",
   "execution_count": 16,
   "metadata": {},
   "outputs": [
    {
     "data": {
      "text/plain": [
       "<ModelVersion: aliases=[], creation_timestamp=1708239928408, current_stage='None', description=None, last_updated_timestamp=1708239928408, name='decision-tree-classification-model', run_id='64ad0aa8cc714ca299b155ff2b407b66', run_link=None, source='file:///Users/deepmalya/Library/Mobile%20Documents/com~apple~CloudDocs/CMI/Assignments/Sem%204/AML/Assignment%202/mlruns/0/64ad0aa8cc714ca299b155ff2b407b66/artifacts/sklearn-model', status='READY', status_message=None, tags={}, user_id=None, version=3>"
      ]
     },
     "execution_count": 16,
     "metadata": {},
     "output_type": "execute_result"
    }
   ],
   "source": [
    "mlflow.tracking.MlflowClient().get_model_version(\"decision-tree-classification-model\", \"3\")"
   ]
  },
  {
   "cell_type": "markdown",
   "metadata": {},
   "source": [
    "### We see random forest model scores highest accuracy and aupcr on our testing data"
   ]
  },
  {
   "cell_type": "code",
   "execution_count": 17,
   "metadata": {},
   "outputs": [
    {
     "name": "stdout",
     "output_type": "stream",
     "text": [
      "              precision    recall  f1-score   support\n",
      "\n",
      "           0       0.99      0.99      0.99       871\n",
      "           1       0.98      0.96      0.97       275\n",
      "\n",
      "    accuracy                           0.99      1146\n",
      "   macro avg       0.99      0.98      0.98      1146\n",
      "weighted avg       0.99      0.99      0.99      1146\n",
      "\n"
     ]
    }
   ],
   "source": [
    "pred_y = rf.predict(test_X)\n",
    "print(classification_report(pred_y, test_y))"
   ]
  },
  {
   "cell_type": "code",
   "execution_count": 18,
   "metadata": {},
   "outputs": [
    {
     "data": {
      "image/png": "[encoded data removed]",
      "text/plain": [
       "<Figure size 640x480 with 2 Axes>"
      ]
     },
     "metadata": {},
     "output_type": "display_data"
    }
   ],
   "source": [
    "ConfusionMatrixDisplay.from_estimator(rf, test_X, test_y)\n",
    "plt.show()"
   ]
  },
  {
   "cell_type": "code",
   "execution_count": null,
   "metadata": {},
   "outputs": [],
   "source": []
  }
 ],
 "metadata": {
  "kernelspec": {
   "display_name": "Python 3",
   "language": "python",
   "name": "python3"
  },
  "language_info": {
   "codemirror_mode": {
    "name": "ipython",
    "version": 3
   },
   "file_extension": ".py",
   "mimetype": "text/x-python",
   "name": "python",
   "nbconvert_exporter": "python",
   "pygments_lexer": "ipython3",
   "version": "3.9.6"
  }
 },
 "nbformat": 4,
 "nbformat_minor": 2
}
